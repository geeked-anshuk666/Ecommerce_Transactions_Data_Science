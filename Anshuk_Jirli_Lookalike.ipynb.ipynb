{
 "cells": [
  {
   "cell_type": "code",
   "execution_count": 1,
   "metadata": {},
   "outputs": [],
   "source": [
    "import pandas as pd\n",
    "import numpy as np\n",
    "from sklearn.metrics.pairwise import cosine_similarity\n",
    "from sklearn.preprocessing import StandardScaler\n",
    "from sklearn.preprocessing import OneHotEncoder"
   ]
  },
  {
   "cell_type": "code",
   "execution_count": 2,
   "metadata": {},
   "outputs": [],
   "source": [
    "# Load the datasets\n",
    "customers_df = pd.read_csv('Datasets/Customers.csv')\n",
    "products_df = pd.read_csv('Datasets/Products.csv')\n",
    "transactions_df = pd.read_csv('Datasets/Transactions.csv')"
   ]
  },
  {
   "cell_type": "code",
   "execution_count": 3,
   "metadata": {},
   "outputs": [],
   "source": [
    "# Data Cleaning and Preprocessing (same as in EDA notebook for consistency)\n",
    "customers_df.rename(columns={'CustomerID': 'CustomerID'}, inplace=True)\n",
    "customers_df['SignupDate'] = pd.to_datetime(customers_df['SignupDate'])\n",
    "products_df.rename(columns={'ProductID': 'ProductID'}, inplace=True)\n",
    "transactions_df.rename(columns={'TransactionID': 'TransactionID'}, inplace=True)\n",
    "transactions_df['TransactionDate'] = pd.to_datetime(transactions_df['TransactionDate'])\n",
    "customers_df['SignupYear'] = customers_df['SignupDate'].dt.year\n",
    "transactions_df['TransactionYear'] = transactions_df['TransactionDate'].dt.year"
   ]
  },
  {
   "cell_type": "code",
   "execution_count": 4,
   "metadata": {},
   "outputs": [],
   "source": [
    "# --- Feature Engineering for Lookalike Model ---\n",
    "\n",
    "# 1. Customer Profile Features\n",
    "customer_profile_features = customers_df[['CustomerID', 'Region', 'SignupYear']].copy()\n",
    "\n",
    "# One-Hot Encode 'Region'\n",
    "encoder = OneHotEncoder(handle_unknown='ignore', sparse_output=False)\n",
    "region_encoded = encoder.fit_transform(customer_profile_features[['Region']])\n",
    "region_feature_names = encoder.get_feature_names_out(['Region'])\n",
    "region_df = pd.DataFrame(region_encoded, columns=region_feature_names, index=customer_profile_features.index)\n",
    "customer_profile_features = pd.concat([customer_profile_features, region_df], axis=1).drop(['Region'], axis=1)"
   ]
  },
  {
   "cell_type": "code",
   "execution_count": 5,
   "metadata": {},
   "outputs": [],
   "source": [
    "# 2. Customer Transaction Features\n",
    "customer_transaction_features = transactions_df.groupby('CustomerID').agg(\n",
    "    TransactionCount=('TransactionID', 'count'),\n",
    "    TotalTransactionValue=('TotalValue', 'sum'),\n",
    "    AvgQuantityPerTransaction=('Quantity', 'mean'),\n",
    "    LastTransactionDate=('TransactionDate', 'max')\n",
    ").reset_index()\n",
    "\n",
    "ref_date = transactions_df['TransactionDate'].max() + pd.Timedelta(days=1)\n",
    "customer_transaction_features['Recency'] = (ref_date - customer_transaction_features['LastTransactionDate']).dt.days\n",
    "customer_transaction_features = customer_transaction_features.drop('LastTransactionDate', axis=1)"
   ]
  },
  {
   "cell_type": "code",
   "execution_count": 6,
   "metadata": {},
   "outputs": [],
   "source": [
    "# 3. Customer Category Preference Features\n",
    "merged_transaction_product = pd.merge(transactions_df, products_df[['ProductID', 'Category']], on='ProductID', how='left')\n",
    "category_pref_value = merged_transaction_product.groupby(['CustomerID', 'Category'])['TotalValue'].sum().unstack(fill_value=0)\n",
    "category_pref_value.columns = [f\"CategoryValue_{col}\" for col in category_pref_value.columns] # Renaming columns to avoid conflicts\n",
    "category_pref_quantity = merged_transaction_product.groupby(['CustomerID', 'Category'])['Quantity'].sum().unstack(fill_value=0)\n",
    "category_pref_quantity.columns = [f\"CategoryQuantity_{col}\" for col in category_pref_quantity.columns] # Renaming columns\n",
    "\n",
    "customer_category_features_value = category_pref_value.reset_index()\n",
    "customer_category_features_quantity = category_pref_quantity.reset_index()\n"
   ]
  },
  {
   "cell_type": "code",
   "execution_count": 7,
   "metadata": {},
   "outputs": [],
   "source": [
    "# Merge all features\n",
    "customer_features = pd.merge(customer_profile_features, customer_transaction_features, on='CustomerID', how='left').fillna(0) # Fill NaN from transactions with 0, indicating no transaction\n",
    "customer_features = pd.merge(customer_features, customer_category_features_value, on='CustomerID', how='left').fillna(0)\n",
    "customer_features = pd.merge(customer_features, customer_category_features_quantity, on='CustomerID', how='left').fillna(0)\n",
    "\n",
    "customer_features.set_index('CustomerID', inplace=True)\n",
    "customer_features = customer_features.drop('SignupYear', axis=1)"
   ]
  },
  {
   "cell_type": "code",
   "execution_count": 8,
   "metadata": {},
   "outputs": [],
   "source": [
    "# --- Data Scaling ---\n",
    "scaler = StandardScaler()\n",
    "scaled_features = scaler.fit_transform(customer_features)\n",
    "scaled_customer_features_df = pd.DataFrame(scaled_features, index=customer_features.index, columns=customer_features.columns)\n",
    "\n",
    "\n",
    "# --- Cosine Similarity Calculation ---\n",
    "cosine_sim_matrix = cosine_similarity(scaled_customer_features_df)\n",
    "cosine_sim_df = pd.DataFrame(cosine_sim_matrix, index=scaled_customer_features_df.index, columns=scaled_customer_features_df.index)"
   ]
  },
  {
   "cell_type": "code",
   "execution_count": 9,
   "metadata": {},
   "outputs": [],
   "source": [
    "# --- Lookalike Recommendation Function ---\n",
    "def get_lookalikes(customer_id, similarity_matrix_df, top_n=3):\n",
    "    if customer_id not in similarity_matrix_df.index:\n",
    "        return \"Customer ID not found.\"\n",
    "\n",
    "    similarity_scores = similarity_matrix_df[customer_id]\n",
    "    lookalike_customers = similarity_scores.sort_values(ascending=False)\n",
    "\n",
    "    # Exclude the customer themselves and get top N\n",
    "    top_lookalikes = lookalike_customers.drop(customer_id).head(top_n)\n",
    "    return list(zip(top_lookalikes.index, top_lookalikes.values))\n"
   ]
  },
  {
   "cell_type": "code",
   "execution_count": 10,
   "metadata": {},
   "outputs": [
    {
     "name": "stdout",
     "output_type": "stream",
     "text": [
      "Lookalike Recommendations for first 20 customers:\n",
      "{'C0001': [('C0120', np.float64(0.8242628332695773)), ('C0181', np.float64(0.8227028198320376)), ('C0168', np.float64(0.7432275474372877))], 'C0002': [('C0159', np.float64(0.972351534419235)), ('C0178', np.float64(0.9302581903333679)), ('C0106', np.float64(0.8621560717347246))], 'C0003': [('C0129', np.float64(0.6992516854215831)), ('C0091', np.float64(0.6909768044268577)), ('C0031', np.float64(0.6865599555462545))], 'C0004': [('C0113', np.float64(0.874793862586715)), ('C0012', np.float64(0.8531450253054403)), ('C0148', np.float64(0.7728514213838489))], 'C0005': [('C0140', np.float64(0.92159544752479)), ('C0007', np.float64(0.9153139923935472)), ('C0123', np.float64(0.8324571310027925))], 'C0006': [('C0169', np.float64(0.7730079128858565)), ('C0108', np.float64(0.726602951924099)), ('C0153', np.float64(0.7089250983966404))], 'C0007': [('C0005', np.float64(0.9153139923935472)), ('C0140', np.float64(0.8359833356535368)), ('C0080', np.float64(0.7563100133833698))], 'C0008': [('C0109', np.float64(0.7788669718873902)), ('C0098', np.float64(0.7585799371940662)), ('C0194', np.float64(0.7559500164080601))], 'C0009': [('C0198', np.float64(0.9631906988920086)), ('C0119', np.float64(0.8824284855865739)), ('C0060', np.float64(0.8475097903563463))], 'C0010': [('C0111', np.float64(0.9058953411207268)), ('C0044', np.float64(0.750031171325948)), ('C0062', np.float64(0.7316644957785499))], 'C0011': [('C0107', np.float64(0.7630385648024456)), ('C0190', np.float64(0.7603255895054244)), ('C0099', np.float64(0.7366195283967535))], 'C0012': [('C0113', np.float64(0.9044610827246081)), ('C0148', np.float64(0.8730832100027937)), ('C0104', np.float64(0.8653677600676013))], 'C0013': [('C0099', np.float64(0.9350457009005586)), ('C0188', np.float64(0.8534793141339285)), ('C0107', np.float64(0.7894794735682055))], 'C0014': [('C0060', np.float64(0.8198855253071944)), ('C0058', np.float64(0.7868947938447374)), ('C0097', np.float64(0.7696380193351896))], 'C0015': [('C0033', np.float64(0.8978017853867192)), ('C0036', np.float64(0.8359968980207577)), ('C0131', np.float64(0.7920593541969707))], 'C0016': [('C0042', np.float64(0.7337980182679739)), ('C0024', np.float64(0.7241496231653146)), ('C0098', np.float64(0.6934992198190866))], 'C0017': [('C0075', np.float64(0.8995163141519348)), ('C0064', np.float64(0.8195474532460278)), ('C0057', np.float64(0.8111455533075905))], 'C0018': [('C0068', np.float64(0.7849100868626807)), ('C0125', np.float64(0.7483500820223972)), ('C0122', np.float64(0.6701585276494441))], 'C0019': [('C0070', np.float64(0.7427161231544827)), ('C0119', np.float64(0.7315531726830116)), ('C0121', np.float64(0.7174995101002981))], 'C0020': [('C0033', np.float64(0.8053256379644603)), ('C0058', np.float64(0.7961331520097981)), ('C0144', np.float64(0.7775686573115773))]}\n"
     ]
    }
   ],
   "source": [
    "# --- Generate Lookalike Recommendations for first 20 Customers ---\n",
    "lookalike_map = {}\n",
    "customer_ids_for_recommendation = customers_df['CustomerID'].head(20).tolist()\n",
    "\n",
    "for cust_id in customer_ids_for_recommendation:\n",
    "    lookalikes = get_lookalikes(cust_id, cosine_sim_df)\n",
    "    lookalike_map[cust_id] = lookalikes\n",
    "\n",
    "print(\"Lookalike Recommendations for first 20 customers:\")\n",
    "print(lookalike_map)"
   ]
  },
  {
   "cell_type": "code",
   "execution_count": 11,
   "metadata": {},
   "outputs": [
    {
     "name": "stdout",
     "output_type": "stream",
     "text": [
      "\n",
      "Lookalike.csv created successfully.\n",
      "   CustomerID                      LookalikeRecommendations\n",
      "0       C0001  [C0120,0.8243];[C0181,0.8227];[C0168,0.7432]\n",
      "1       C0002  [C0159,0.9724];[C0178,0.9303];[C0106,0.8622]\n",
      "2       C0003  [C0129,0.6993];[C0091,0.6910];[C0031,0.6866]\n",
      "3       C0004  [C0113,0.8748];[C0012,0.8531];[C0148,0.7729]\n",
      "4       C0005  [C0140,0.9216];[C0007,0.9153];[C0123,0.8325]\n",
      "5       C0006  [C0169,0.7730];[C0108,0.7266];[C0153,0.7089]\n",
      "6       C0007  [C0005,0.9153];[C0140,0.8360];[C0080,0.7563]\n",
      "7       C0008  [C0109,0.7789];[C0098,0.7586];[C0194,0.7560]\n",
      "8       C0009  [C0198,0.9632];[C0119,0.8824];[C0060,0.8475]\n",
      "9       C0010  [C0111,0.9059];[C0044,0.7500];[C0062,0.7317]\n",
      "10      C0011  [C0107,0.7630];[C0190,0.7603];[C0099,0.7366]\n",
      "11      C0012  [C0113,0.9045];[C0148,0.8731];[C0104,0.8654]\n",
      "12      C0013  [C0099,0.9350];[C0188,0.8535];[C0107,0.7895]\n",
      "13      C0014  [C0060,0.8199];[C0058,0.7869];[C0097,0.7696]\n",
      "14      C0015  [C0033,0.8978];[C0036,0.8360];[C0131,0.7921]\n",
      "15      C0016  [C0042,0.7338];[C0024,0.7241];[C0098,0.6935]\n",
      "16      C0017  [C0075,0.8995];[C0064,0.8195];[C0057,0.8111]\n",
      "17      C0018  [C0068,0.7849];[C0125,0.7484];[C0122,0.6702]\n",
      "18      C0019  [C0070,0.7427];[C0119,0.7316];[C0121,0.7175]\n",
      "19      C0020  [C0033,0.8053];[C0058,0.7961];[C0144,0.7776]\n",
      "\n",
      "Task 2 completed. Lookalike recommendations and Lookalike.csv generated.\n"
     ]
    }
   ],
   "source": [
    "# --- Create Lookalike.csv ---\n",
    "lookalike_list_for_csv = []\n",
    "for cust_id, recommendations in lookalike_map.items():\n",
    "    recommendation_str = \"\"\n",
    "    for rec_cust_id, score in recommendations:\n",
    "        recommendation_str += f\"[{rec_cust_id},{score:.4f}];\"\n",
    "    lookalike_list_for_csv.append({'CustomerID': cust_id, 'LookalikeRecommendations': recommendation_str[:-1]}) # Remove trailing semicolon\n",
    "\n",
    "lookalike_csv_df = pd.DataFrame(lookalike_list_for_csv)\n",
    "lookalike_csv_df.to_csv('Anshuk_Jirli_Lookalike.csv', index=False)\n",
    "\n",
    "print(\"\\nLookalike.csv created successfully.\")\n",
    "print(lookalike_csv_df.head(20).to_string())\n",
    "\n",
    "print(\"\\nTask 2 completed. Lookalike recommendations and Lookalike.csv generated.\")"
   ]
  }
 ],
 "metadata": {
  "kernelspec": {
   "display_name": ".venv",
   "language": "python",
   "name": "python3"
  },
  "language_info": {
   "codemirror_mode": {
    "name": "ipython",
    "version": 3
   },
   "file_extension": ".py",
   "mimetype": "text/x-python",
   "name": "python",
   "nbconvert_exporter": "python",
   "pygments_lexer": "ipython3",
   "version": "3.10.0"
  }
 },
 "nbformat": 4,
 "nbformat_minor": 2
}
